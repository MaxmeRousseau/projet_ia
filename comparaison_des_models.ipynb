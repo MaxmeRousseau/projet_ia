{
 "cells": [
  {
   "cell_type": "code",
   "execution_count": 1,
   "id": "3c0e6ccb",
   "metadata": {},
   "outputs": [
    {
     "name": "stdout",
     "output_type": "stream",
     "text": [
      "Requirement already satisfied: transformers in /opt/conda/lib/python3.13/site-packages (4.57.1)\n",
      "Requirement already satisfied: torch in /opt/conda/lib/python3.13/site-packages (2.8.0+cu128)\n",
      "Requirement already satisfied: datasets in /opt/conda/lib/python3.13/site-packages (4.2.0)\n",
      "Requirement already satisfied: evaluate in /opt/conda/lib/python3.13/site-packages (0.4.6)\n",
      "Requirement already satisfied: accelerate in /opt/conda/lib/python3.13/site-packages (1.10.1)\n",
      "Requirement already satisfied: timm in /opt/conda/lib/python3.13/site-packages (1.0.20)\n",
      "Requirement already satisfied: kagglehub in /opt/conda/lib/python3.13/site-packages (0.3.13)\n",
      "Requirement already satisfied: pandas in /opt/conda/lib/python3.13/site-packages (2.3.3)\n",
      "Requirement already satisfied: seaborn in /opt/conda/lib/python3.13/site-packages (0.13.2)\n",
      "Requirement already satisfied: filelock in /opt/conda/lib/python3.13/site-packages (from transformers) (3.13.1)\n",
      "Requirement already satisfied: huggingface-hub<1.0,>=0.34.0 in /opt/conda/lib/python3.13/site-packages (from transformers) (0.35.3)\n",
      "Requirement already satisfied: numpy>=1.17 in /opt/conda/lib/python3.13/site-packages (from transformers) (2.3.3)\n",
      "Requirement already satisfied: packaging>=20.0 in /opt/conda/lib/python3.13/site-packages (from transformers) (25.0)\n",
      "Requirement already satisfied: pyyaml>=5.1 in /opt/conda/lib/python3.13/site-packages (from transformers) (6.0.3)\n",
      "Requirement already satisfied: regex!=2019.12.17 in /opt/conda/lib/python3.13/site-packages (from transformers) (2025.9.18)\n",
      "Requirement already satisfied: requests in /opt/conda/lib/python3.13/site-packages (from transformers) (2.32.5)\n",
      "Requirement already satisfied: tokenizers<=0.23.0,>=0.22.0 in /opt/conda/lib/python3.13/site-packages (from transformers) (0.22.1)\n",
      "Requirement already satisfied: safetensors>=0.4.3 in /opt/conda/lib/python3.13/site-packages (from transformers) (0.6.2)\n",
      "Requirement already satisfied: tqdm>=4.27 in /opt/conda/lib/python3.13/site-packages (from transformers) (4.67.1)\n",
      "Requirement already satisfied: fsspec>=2023.5.0 in /opt/conda/lib/python3.13/site-packages (from huggingface-hub<1.0,>=0.34.0->transformers) (2025.9.0)\n",
      "Requirement already satisfied: typing-extensions>=3.7.4.3 in /opt/conda/lib/python3.13/site-packages (from huggingface-hub<1.0,>=0.34.0->transformers) (4.15.0)\n",
      "Requirement already satisfied: hf-xet<2.0.0,>=1.1.3 in /opt/conda/lib/python3.13/site-packages (from huggingface-hub<1.0,>=0.34.0->transformers) (1.1.10)\n",
      "Requirement already satisfied: setuptools in /opt/conda/lib/python3.13/site-packages (from torch) (80.9.0)\n",
      "Requirement already satisfied: sympy>=1.13.3 in /opt/conda/lib/python3.13/site-packages (from torch) (1.14.0)\n",
      "Requirement already satisfied: networkx in /opt/conda/lib/python3.13/site-packages (from torch) (3.5)\n",
      "Requirement already satisfied: jinja2 in /opt/conda/lib/python3.13/site-packages (from torch) (3.1.6)\n",
      "Requirement already satisfied: nvidia-cuda-nvrtc-cu12==12.8.93 in /opt/conda/lib/python3.13/site-packages (from torch) (12.8.93)\n",
      "Requirement already satisfied: nvidia-cuda-runtime-cu12==12.8.90 in /opt/conda/lib/python3.13/site-packages (from torch) (12.8.90)\n",
      "Requirement already satisfied: nvidia-cuda-cupti-cu12==12.8.90 in /opt/conda/lib/python3.13/site-packages (from torch) (12.8.90)\n",
      "Requirement already satisfied: nvidia-cudnn-cu12==9.10.2.21 in /opt/conda/lib/python3.13/site-packages (from torch) (9.10.2.21)\n",
      "Requirement already satisfied: nvidia-cublas-cu12==12.8.4.1 in /opt/conda/lib/python3.13/site-packages (from torch) (12.8.4.1)\n",
      "Requirement already satisfied: nvidia-cufft-cu12==11.3.3.83 in /opt/conda/lib/python3.13/site-packages (from torch) (11.3.3.83)\n",
      "Requirement already satisfied: nvidia-curand-cu12==10.3.9.90 in /opt/conda/lib/python3.13/site-packages (from torch) (10.3.9.90)\n",
      "Requirement already satisfied: nvidia-cusolver-cu12==11.7.3.90 in /opt/conda/lib/python3.13/site-packages (from torch) (11.7.3.90)\n",
      "Requirement already satisfied: nvidia-cusparse-cu12==12.5.8.93 in /opt/conda/lib/python3.13/site-packages (from torch) (12.5.8.93)\n",
      "Requirement already satisfied: nvidia-cusparselt-cu12==0.7.1 in /opt/conda/lib/python3.13/site-packages (from torch) (0.7.1)\n",
      "Requirement already satisfied: nvidia-nccl-cu12==2.27.3 in /opt/conda/lib/python3.13/site-packages (from torch) (2.27.3)\n",
      "Requirement already satisfied: nvidia-nvtx-cu12==12.8.90 in /opt/conda/lib/python3.13/site-packages (from torch) (12.8.90)\n",
      "Requirement already satisfied: nvidia-nvjitlink-cu12==12.8.93 in /opt/conda/lib/python3.13/site-packages (from torch) (12.8.93)\n",
      "Requirement already satisfied: nvidia-cufile-cu12==1.13.1.3 in /opt/conda/lib/python3.13/site-packages (from torch) (1.13.1.3)\n",
      "Requirement already satisfied: triton==3.4.0 in /opt/conda/lib/python3.13/site-packages (from torch) (3.4.0)\n",
      "Requirement already satisfied: pyarrow>=21.0.0 in /opt/conda/lib/python3.13/site-packages (from datasets) (21.0.0)\n",
      "Requirement already satisfied: dill<0.4.1,>=0.3.0 in /opt/conda/lib/python3.13/site-packages (from datasets) (0.4.0)\n",
      "Requirement already satisfied: httpx<1.0.0 in /opt/conda/lib/python3.13/site-packages (from datasets) (0.28.1)\n",
      "Requirement already satisfied: xxhash in /opt/conda/lib/python3.13/site-packages (from datasets) (3.6.0)\n",
      "Requirement already satisfied: multiprocess<0.70.17 in /opt/conda/lib/python3.13/site-packages (from datasets) (0.70.16)\n",
      "Requirement already satisfied: aiohttp!=4.0.0a0,!=4.0.0a1 in /opt/conda/lib/python3.13/site-packages (from fsspec[http]<=2025.9.0,>=2023.1.0->datasets) (3.13.0)\n",
      "Requirement already satisfied: anyio in /opt/conda/lib/python3.13/site-packages (from httpx<1.0.0->datasets) (4.11.0)\n",
      "Requirement already satisfied: certifi in /opt/conda/lib/python3.13/site-packages (from httpx<1.0.0->datasets) (2025.10.5)\n",
      "Requirement already satisfied: httpcore==1.* in /opt/conda/lib/python3.13/site-packages (from httpx<1.0.0->datasets) (1.0.9)\n",
      "Requirement already satisfied: idna in /opt/conda/lib/python3.13/site-packages (from httpx<1.0.0->datasets) (3.10)\n",
      "Requirement already satisfied: h11>=0.16 in /opt/conda/lib/python3.13/site-packages (from httpcore==1.*->httpx<1.0.0->datasets) (0.16.0)\n",
      "Requirement already satisfied: psutil in /opt/conda/lib/python3.13/site-packages (from accelerate) (7.1.0)\n",
      "Requirement already satisfied: torchvision in /opt/conda/lib/python3.13/site-packages (from timm) (0.23.0+cu128)\n",
      "Requirement already satisfied: python-dateutil>=2.8.2 in /opt/conda/lib/python3.13/site-packages (from pandas) (2.9.0.post0)\n",
      "Requirement already satisfied: pytz>=2020.1 in /opt/conda/lib/python3.13/site-packages (from pandas) (2025.2)\n",
      "Requirement already satisfied: tzdata>=2022.7 in /opt/conda/lib/python3.13/site-packages (from pandas) (2025.2)\n",
      "Requirement already satisfied: matplotlib!=3.6.1,>=3.4 in /opt/conda/lib/python3.13/site-packages (from seaborn) (3.10.6)\n",
      "Requirement already satisfied: aiohappyeyeballs>=2.5.0 in /opt/conda/lib/python3.13/site-packages (from aiohttp!=4.0.0a0,!=4.0.0a1->fsspec[http]<=2025.9.0,>=2023.1.0->datasets) (2.6.1)\n",
      "Requirement already satisfied: aiosignal>=1.4.0 in /opt/conda/lib/python3.13/site-packages (from aiohttp!=4.0.0a0,!=4.0.0a1->fsspec[http]<=2025.9.0,>=2023.1.0->datasets) (1.4.0)\n",
      "Requirement already satisfied: attrs>=17.3.0 in /opt/conda/lib/python3.13/site-packages (from aiohttp!=4.0.0a0,!=4.0.0a1->fsspec[http]<=2025.9.0,>=2023.1.0->datasets) (25.3.0)\n",
      "Requirement already satisfied: frozenlist>=1.1.1 in /opt/conda/lib/python3.13/site-packages (from aiohttp!=4.0.0a0,!=4.0.0a1->fsspec[http]<=2025.9.0,>=2023.1.0->datasets) (1.8.0)\n",
      "Requirement already satisfied: multidict<7.0,>=4.5 in /opt/conda/lib/python3.13/site-packages (from aiohttp!=4.0.0a0,!=4.0.0a1->fsspec[http]<=2025.9.0,>=2023.1.0->datasets) (6.7.0)\n",
      "Requirement already satisfied: propcache>=0.2.0 in /opt/conda/lib/python3.13/site-packages (from aiohttp!=4.0.0a0,!=4.0.0a1->fsspec[http]<=2025.9.0,>=2023.1.0->datasets) (0.4.1)\n",
      "Requirement already satisfied: yarl<2.0,>=1.17.0 in /opt/conda/lib/python3.13/site-packages (from aiohttp!=4.0.0a0,!=4.0.0a1->fsspec[http]<=2025.9.0,>=2023.1.0->datasets) (1.22.0)\n",
      "Requirement already satisfied: contourpy>=1.0.1 in /opt/conda/lib/python3.13/site-packages (from matplotlib!=3.6.1,>=3.4->seaborn) (1.3.3)\n",
      "Requirement already satisfied: cycler>=0.10 in /opt/conda/lib/python3.13/site-packages (from matplotlib!=3.6.1,>=3.4->seaborn) (0.12.1)\n",
      "Requirement already satisfied: fonttools>=4.22.0 in /opt/conda/lib/python3.13/site-packages (from matplotlib!=3.6.1,>=3.4->seaborn) (4.60.1)\n",
      "Requirement already satisfied: kiwisolver>=1.3.1 in /opt/conda/lib/python3.13/site-packages (from matplotlib!=3.6.1,>=3.4->seaborn) (1.4.9)\n",
      "Requirement already satisfied: pillow>=8 in /opt/conda/lib/python3.13/site-packages (from matplotlib!=3.6.1,>=3.4->seaborn) (11.3.0)\n",
      "Requirement already satisfied: pyparsing>=2.3.1 in /opt/conda/lib/python3.13/site-packages (from matplotlib!=3.6.1,>=3.4->seaborn) (3.2.5)\n",
      "Requirement already satisfied: six>=1.5 in /opt/conda/lib/python3.13/site-packages (from python-dateutil>=2.8.2->pandas) (1.17.0)\n",
      "Requirement already satisfied: charset_normalizer<4,>=2 in /opt/conda/lib/python3.13/site-packages (from requests->transformers) (3.4.3)\n",
      "Requirement already satisfied: urllib3<3,>=1.21.1 in /opt/conda/lib/python3.13/site-packages (from requests->transformers) (2.5.0)\n",
      "Requirement already satisfied: mpmath<1.4,>=1.1.0 in /opt/conda/lib/python3.13/site-packages (from sympy>=1.13.3->torch) (1.3.0)\n",
      "Requirement already satisfied: sniffio>=1.1 in /opt/conda/lib/python3.13/site-packages (from anyio->httpx<1.0.0->datasets) (1.3.1)\n",
      "Requirement already satisfied: MarkupSafe>=2.0 in /opt/conda/lib/python3.13/site-packages (from jinja2->torch) (3.0.3)\n",
      "Note: you may need to restart the kernel to use updated packages.\n"
     ]
    }
   ],
   "source": [
    "%pip install transformers torch datasets evaluate accelerate timm kagglehub pandas seaborn evaluate"
   ]
  },
  {
   "cell_type": "code",
   "execution_count": 2,
   "id": "51fb697e",
   "metadata": {},
   "outputs": [
    {
     "name": "stdout",
     "output_type": "stream",
     "text": [
      "Device: cuda\n",
      "Trying to load tokenizer from local dir: humor_detection_model01 (local_files_only=True)\n",
      "Local tokenizer load failed: stat: path should be string, bytes, os.PathLike or integer, not NoneType\n",
      "Trying fallback tokenizer from Hugging Face: distilbert-base-uncased\n"
     ]
    },
    {
     "data": {
      "application/vnd.jupyter.widget-view+json": {
       "model_id": "7f05ab76507a41e2b935df0925d38940",
       "version_major": 2,
       "version_minor": 0
      },
      "text/plain": [
       "tokenizer_config.json:   0%|          | 0.00/48.0 [00:00<?, ?B/s]"
      ]
     },
     "metadata": {},
     "output_type": "display_data"
    },
    {
     "data": {
      "application/vnd.jupyter.widget-view+json": {
       "model_id": "dd01625a4d47446397f355dbf1df36ed",
       "version_major": 2,
       "version_minor": 0
      },
      "text/plain": [
       "config.json:   0%|          | 0.00/483 [00:00<?, ?B/s]"
      ]
     },
     "metadata": {},
     "output_type": "display_data"
    },
    {
     "data": {
      "application/vnd.jupyter.widget-view+json": {
       "model_id": "a3f01bc080514679b2277054474b1f96",
       "version_major": 2,
       "version_minor": 0
      },
      "text/plain": [
       "vocab.txt:   0%|          | 0.00/232k [00:00<?, ?B/s]"
      ]
     },
     "metadata": {},
     "output_type": "display_data"
    },
    {
     "data": {
      "application/vnd.jupyter.widget-view+json": {
       "model_id": "7b21d724e3c343238adfd62a00e1d1b8",
       "version_major": 2,
       "version_minor": 0
      },
      "text/plain": [
       "tokenizer.json:   0%|          | 0.00/466k [00:00<?, ?B/s]"
      ]
     },
     "metadata": {},
     "output_type": "display_data"
    },
    {
     "name": "stdout",
     "output_type": "stream",
     "text": [
      "Trying to load model from local dir: humor_detection_model01 (local_files_only=True)\n",
      "Trying to load tokenizer from local dir: humor_model_multilingual (local_files_only=True)\n",
      "Local tokenizer load failed: stat: path should be string, bytes, os.PathLike or integer, not NoneType\n",
      "Trying fallback tokenizer from Hugging Face: distilbert-base-multilingual-cased\n"
     ]
    },
    {
     "data": {
      "application/vnd.jupyter.widget-view+json": {
       "model_id": "33b349a79b6e443caf63fdb91ec9a98e",
       "version_major": 2,
       "version_minor": 0
      },
      "text/plain": [
       "tokenizer_config.json:   0%|          | 0.00/49.0 [00:00<?, ?B/s]"
      ]
     },
     "metadata": {},
     "output_type": "display_data"
    },
    {
     "data": {
      "application/vnd.jupyter.widget-view+json": {
       "model_id": "811742d7a6ea4803bf9d41924e02450c",
       "version_major": 2,
       "version_minor": 0
      },
      "text/plain": [
       "config.json:   0%|          | 0.00/466 [00:00<?, ?B/s]"
      ]
     },
     "metadata": {},
     "output_type": "display_data"
    },
    {
     "data": {
      "application/vnd.jupyter.widget-view+json": {
       "model_id": "76307598f50d4d589658896359aab13f",
       "version_major": 2,
       "version_minor": 0
      },
      "text/plain": [
       "vocab.txt:   0%|          | 0.00/996k [00:00<?, ?B/s]"
      ]
     },
     "metadata": {},
     "output_type": "display_data"
    },
    {
     "data": {
      "application/vnd.jupyter.widget-view+json": {
       "model_id": "74f1fb6ab82f4ac0bf9bb37a9de1fe60",
       "version_major": 2,
       "version_minor": 0
      },
      "text/plain": [
       "tokenizer.json:   0%|          | 0.00/1.96M [00:00<?, ?B/s]"
      ]
     },
     "metadata": {},
     "output_type": "display_data"
    },
    {
     "name": "stdout",
     "output_type": "stream",
     "text": [
      "Trying to load model from local dir: humor_model_multilingual (local_files_only=True)\n",
      "\n",
      "Results for model1 (humor_detection_model01):\n",
      "Example: I told my computer I needed a break, and it said no problem — it crashed.\n",
      "  Predicted class: 1 | probs: [5.1265906e-06 9.9999487e-01]\n",
      "Example: Why don't scientists trust atoms? Because they make up everything!\n",
      "  Predicted class: 1 | probs: [3.0561432e-06 9.9999690e-01]\n",
      "Example: This is a test sentence.\n",
      "  Predicted class: 1 | probs: [2.4840552e-05 9.9997520e-01]\n",
      "Example: Ce texte est sérieux et pas drôle.\n",
      "  Predicted class: 1 | probs: [0.00534225 0.9946577 ]\n",
      "Example: Pourquoi les plongeurs plongent-ils toujours en arrière et jamais en avant ? Parce que sinon ils tombent dans le bateau.\n",
      "  Predicted class: 1 | probs: [6.0417497e-05 9.9993956e-01]\n",
      "\n",
      "Results for model2 (humor_model_multilingual):\n",
      "Example: I told my computer I needed a break, and it said no problem — it crashed.\n",
      "  Predicted class: 1 | probs: [7.4578583e-04 9.9925417e-01]\n",
      "Example: Why don't scientists trust atoms? Because they make up everything!\n",
      "  Predicted class: 1 | probs: [8.1505881e-05 9.9991846e-01]\n",
      "Example: This is a test sentence.\n",
      "  Predicted class: 1 | probs: [1.2566039e-04 9.9987435e-01]\n",
      "Example: Ce texte est sérieux et pas drôle.\n",
      "  Predicted class: 1 | probs: [0.0014263  0.99857366]\n",
      "Example: Pourquoi les plongeurs plongent-ils toujours en arrière et jamais en avant ? Parce que sinon ils tombent dans le bateau.\n",
      "  Predicted class: 1 | probs: [6.5404172e-05 9.9993455e-01]\n",
      "\n",
      "Model1 id2label: {0: 'LABEL_0', 1: 'LABEL_1'}\n",
      "Model2 id2label: {0: 'LABEL_0', 1: 'LABEL_1'}\n"
     ]
    }
   ],
   "source": [
    "# Imports\n",
    "import os\n",
    "import json\n",
    "import pandas as pd\n",
    "import numpy as np\n",
    "import torch\n",
    "import evaluate\n",
    "from transformers import AutoTokenizer, AutoModelForSequenceClassification, AutoConfig\n",
    "from sklearn.model_selection import train_test_split\n",
    "from sklearn.metrics import accuracy_score, precision_recall_fscore_support\n",
    "from datasets import Dataset\n",
    "\n",
    "# Détection du device\n",
    "device = torch.device('cuda' if torch.cuda.is_available() else 'cpu')\n",
    "print('Device:', device)\n",
    "\n",
    "# Chemins vers les répertoires des modèles locaux (présents dans le workspace)\n",
    "model1_dir = 'humor_detection_model01'\n",
    "model2_dir = 'humor_model_multilingual'\n",
    "\n",
    "def load_tokenizer_with_fallback(model_dir, fallback_name=None):\n",
    "    try:\n",
    "        print(f\"Trying to load tokenizer from local dir: {model_dir} (local_files_only=True)\")\n",
    "        return AutoTokenizer.from_pretrained(model_dir, local_files_only=True)\n",
    "    except Exception as e:\n",
    "        print('Local tokenizer load failed:', e)\n",
    "        if fallback_name is not None:\n",
    "            try:\n",
    "                print('Trying fallback tokenizer from Hugging Face:', fallback_name)\n",
    "                return AutoTokenizer.from_pretrained(fallback_name, local_files_only=False)\n",
    "            except Exception as e2:\n",
    "                print('Fallback tokenizer failed:', e2)\n",
    "        print('No tokenizer available for', model_dir)\n",
    "        return None\n",
    "\n",
    "def load_model_with_fallback(model_dir):\n",
    "    try:\n",
    "        print(f\"Trying to load model from local dir: {model_dir} (local_files_only=True)\")\n",
    "        return AutoModelForSequenceClassification.from_pretrained(model_dir, local_files_only=True).to(device)\n",
    "    except Exception as e:\n",
    "        print('Local model load failed:', e)\n",
    "        # If a safetensors file exists, try to load it with safetensors.torch\n",
    "        safetensors_path = os.path.join(model_dir, 'model.safetensors')\n",
    "        if os.path.exists(safetensors_path):\n",
    "            try:\n",
    "                print('Found model.safetensors — attempting safetensors load')\n",
    "                # load config and build model skeleton\n",
    "                cfg = AutoConfig.from_pretrained(model_dir, local_files_only=True)\n",
    "                model = AutoModelForSequenceClassification.from_config(cfg).to(device)\n",
    "                try:\n",
    "                    from safetensors.torch import load_file as safe_load\n",
    "                except Exception as e2:\n",
    "                    print('safetensors package not installed. Install with: %pip install safetensors')\n",
    "                    raise e2\n",
    "                state = safe_load(safetensors_path, device=device)\n",
    "                # state is a dict of tensors; load into model (allow strict=False for missing keys)\n",
    "                model.load_state_dict(state, strict=False)\n",
    "                print('Loaded weights from safetensors into model object')\n",
    "                return model\n",
    "            except Exception as e3:\n",
    "                print('Failed to load model from safetensors:', e3)\n",
    "        print('No usable model found in', model_dir)\n",
    "        return None\n",
    "\n",
    "# Choisir des fallback tokenizers raisonnables\n",
    "# model1 semble avoir vocab_size 30522 -> distilbert-base-uncased est un bon candidat\n",
    "# model2 a un vocab_size plus grand -> utiliser distilbert-base-multilingual-cased comme fallback\n",
    "fallback_tokenizer1 = 'distilbert-base-uncased'\n",
    "fallback_tokenizer2 = 'distilbert-base-multilingual-cased'\n",
    "\n",
    "# Charger tokenizers et modèles avec stratégies de repli\n",
    "tokenizer1 = load_tokenizer_with_fallback(model1_dir, fallback_tokenizer1)\n",
    "model1 = load_model_with_fallback(model1_dir)\n",
    "if model1 is None:\n",
    "    print('model1 not loaded — vérifiez le contenu du dossier ou installez safetensors si nécessaire')\n",
    "tokenizer2 = load_tokenizer_with_fallback(model2_dir, fallback_tokenizer2)\n",
    "model2 = load_model_with_fallback(model2_dir)\n",
    "if model2 is None:\n",
    "    print('model2 not loaded — vérifiez le contenu du dossier ou installez safetensors si nécessaire')\n",
    "\n",
    "# Fonction d'inférence simple: renvoie la classe prédite et les probabilités\n",
    "import torch.nn.functional as F\n",
    "def predict(texts, tokenizer, model, device, return_probs=True):\n",
    "    if tokenizer is None or model is None:\n",
    "        raise ValueError('tokenizer et model doivent être fournis')\n",
    "    if isinstance(texts, str):\n",
    "        texts = [texts]\n",
    "    model.eval()\n",
    "    with torch.no_grad():\n",
    "        inputs = tokenizer(texts, truncation=True, padding=True, return_tensors='pt')\n",
    "        inputs = {k: v.to(device) for k, v in inputs.items()}\n",
    "        outputs = model(**inputs)\n",
    "        logits = outputs.logits\n",
    "        probs = F.softmax(logits, dim=-1).cpu().numpy()\n",
    "        preds = probs.argmax(axis=-1)\n",
    "    if return_probs:\n",
    "        return preds, probs\n",
    "    return preds\n",
    "\n",
    "# Quelques exemples de test\n",
    "examples = [\n",
    "    \"I told my computer I needed a break, and it said no problem — it crashed.\",\n",
    "    \"Why don't scientists trust atoms? Because they make up everything!\",\n",
    "    \"This is a test sentence.\",\n",
    "    \"Ce texte est sérieux et pas drôle.\",\n",
    "    \"Pourquoi les plongeurs plongent-ils toujours en arrière et jamais en avant ? Parce que sinon ils tombent dans le bateau.\"\n",
    " ]\n",
    "\n",
    "# Exécuter les tests si possible\n",
    "if tokenizer1 is not None and model1 is not None:\n",
    "    try:\n",
    "        preds1, probs1 = predict(examples, tokenizer1, model1, device)\n",
    "        print('\\nResults for model1 (humor_detection_model01):')\n",
    "        for t, p, prob in zip(examples, preds1, probs1):\n",
    "            print(f'Example: {t}')\n",
    "            print(f'  Predicted class: {p} | probs: {prob}')\n",
    "    except Exception as e:\n",
    "        print('Erreur lors de la prédiction avec model1:', e)\n",
    "\n",
    "if tokenizer2 is not None and model2 is not None:\n",
    "    try:\n",
    "        preds2, probs2 = predict(examples, tokenizer2, model2, device)\n",
    "        print('\\nResults for model2 (humor_model_multilingual):')\n",
    "        for t, p, prob in zip(examples, preds2, probs2):\n",
    "            print(f'Example: {t}')\n",
    "            print(f'  Predicted class: {p} | probs: {prob}')\n",
    "    except Exception as e:\n",
    "        print('Erreur lors de la prédiction avec model2:', e)\n",
    "\n",
    "# Afficher id2label si disponible\n",
    "if model1 is not None:\n",
    "    try:\n",
    "        print('\\nModel1 id2label:', model1.config.id2label)\n",
    "    except Exception:\n",
    "        pass\n",
    "if model2 is not None:\n",
    "    try:\n",
    "        print('Model2 id2label:', model2.config.id2label)\n",
    "    except Exception:\n",
    "        pass"
   ]
  },
  {
   "cell_type": "code",
   "execution_count": 3,
   "id": "62074c1c",
   "metadata": {},
   "outputs": [
    {
     "name": "stdout",
     "output_type": "stream",
     "text": [
      "\n",
      "--- Running pipeline for humor_detection_model01 ---\n",
      "Text: j'ai faim\n",
      "Prediction: Not Humor\n",
      "\n",
      "Text: Quelle mamie fait peur aux voleurs ? Mamie Traillette.\n",
      "Prediction: Humor\n",
      "\n",
      "Text: Pourquoi les plongeurs plongent-ils toujours en arrière et jamais en avant ? Parce que sinon ils tombent dans le bateau.\n",
      "Prediction: Humor\n",
      "\n",
      "Text: Quel est le comble pour un électricien ? De ne pas être au courant.\n",
      "Prediction: Humor\n",
      "\n",
      "Text: Pourquoi les squelettes ne se battent-ils jamais entre eux ? Ils n'ont pas le cran.\n",
      "Prediction: Humor\n",
      "\n",
      "Text: 소 잃고 외양간 고친다\n",
      "Prediction: Not Humor\n",
      "\n",
      "Text: 백지장도 맞들면 낫다\n",
      "Prediction: Not Humor\n",
      "\n",
      "Text: ¿Por qué los pájaros no usan Facebook? Porque ya tienen Twitter.\n",
      "Prediction: Humor\n",
      "\n",
      "\n",
      "--- Running pipeline for humor_model_multilingual ---\n",
      "Text: j'ai faim\n",
      "Prediction: Not Humor\n",
      "\n",
      "Text: Quelle mamie fait peur aux voleurs ? Mamie Traillette.\n",
      "Prediction: Humor\n",
      "\n",
      "Text: Pourquoi les plongeurs plongent-ils toujours en arrière et jamais en avant ? Parce que sinon ils tombent dans le bateau.\n",
      "Prediction: Humor\n",
      "\n",
      "Text: Quel est le comble pour un électricien ? De ne pas être au courant.\n",
      "Prediction: Humor\n",
      "\n",
      "Text: Pourquoi les squelettes ne se battent-ils jamais entre eux ? Ils n'ont pas le cran.\n",
      "Prediction: Humor\n",
      "\n",
      "Text: 소 잃고 외양간 고친다\n",
      "Prediction: Humor\n",
      "\n",
      "Text: 백지장도 맞들면 낫다\n",
      "Prediction: Humor\n",
      "\n",
      "Text: ¿Por qué los pájaros no usan Facebook? Porque ya tienen Twitter.\n",
      "Prediction: Humor\n",
      "\n"
     ]
    }
   ],
   "source": [
    "# Comparaison des deux modèles: chargement avec from_pretrained et prédictions sur exemples fournis\n",
    "from transformers import AutoModelForSequenceClassification\n",
    "texts = [\n",
    "    \"j'ai faim\",\n",
    "    \"Quelle mamie fait peur aux voleurs ? Mamie Traillette.\",\n",
    "    \"Pourquoi les plongeurs plongent-ils toujours en arrière et jamais en avant ? Parce que sinon ils tombent dans le bateau.\",\n",
    "    \"Quel est le comble pour un électricien ? De ne pas être au courant.\",\n",
    "    \"Pourquoi les squelettes ne se battent-ils jamais entre eux ? Ils n'ont pas le cran.\",\n",
    "    \"소 잃고 외양간 고친다\",\n",
    "    \"백지장도 맞들면 낫다\",\n",
    "    \"¿Por qué los pájaros no usan Facebook? Porque ya tienen Twitter.\",\n",
    " ]\n",
    "\n",
    "def run_simple_pipeline(model_dir, tokenizer):\n",
    "    print(f\"\\n--- Running pipeline for {model_dir} ---\")\n",
    "    try:\n",
    "        model = AutoModelForSequenceClassification.from_pretrained(model_dir).to(device)\n",
    "        inputs = tokenizer(texts, return_tensors='pt', truncation=True, padding='max_length', max_length=128)\n",
    "        inputs = {k:v.to(device) for k,v in inputs.items()}\n",
    "        with torch.no_grad():\n",
    "            outputs = model(**inputs)\n",
    "        predictions = torch.argmax(outputs.logits, dim=-1)\n",
    "        for text, pred in zip(texts, predictions):\n",
    "            label = 'Humor' if pred.item() == 1 else 'Not Humor'\n",
    "            print(f\"Text: {text}\\nPrediction: {label}\\n\")\n",
    "    except Exception as e:\n",
    "        print('Erreur pipeline pour', model_dir, ':', e)\n",
    "\n",
    "# Exécuter la pipeline pour model1 et model2 (utiliser tokenizer1/tokenizer2 si disponibles)\n",
    "if tokenizer1 is not None:\n",
    "    run_simple_pipeline('humor_detection_model01', tokenizer1)\n",
    "else:\n",
    "    print('tokenizer1 non disponible — impossible d exécuter pipeline pour model1')\n",
    "if tokenizer2 is not None:\n",
    "    run_simple_pipeline('humor_model_multilingual', tokenizer2)\n",
    "else:\n",
    "    print('tokenizer2 non disponible — impossible d exécuter pipeline pour model2')"
   ]
  }
 ],
 "metadata": {
  "kernelspec": {
   "display_name": "Python 3 (ipykernel)",
   "language": "python",
   "name": "python3"
  },
  "language_info": {
   "codemirror_mode": {
    "name": "ipython",
    "version": 3
   },
   "file_extension": ".py",
   "mimetype": "text/x-python",
   "name": "python",
   "nbconvert_exporter": "python",
   "pygments_lexer": "ipython3",
   "version": "3.13.7"
  }
 },
 "nbformat": 4,
 "nbformat_minor": 5
}
